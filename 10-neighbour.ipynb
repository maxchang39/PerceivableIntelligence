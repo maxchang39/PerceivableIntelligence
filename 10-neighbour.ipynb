{
 "cells": [
  {
   "cell_type": "code",
   "execution_count": 16,
   "metadata": {},
   "outputs": [
    {
     "name": "stderr",
     "output_type": "stream",
     "text": [
      "<main>:3: warning: already initialized constant Point::CLOSEST_POINTS_LIMIT\n",
      "<main>:3: warning: previous definition of CLOSEST_POINTS_LIMIT was here\n"
     ]
    },
    {
     "data": {
      "text/plain": [
       ":attrbyAxis"
      ]
     },
     "execution_count": 16,
     "metadata": {},
     "output_type": "execute_result"
    }
   ],
   "source": [
    "# Solve the problem using k-d tree and a sorted array to hold the 10-minimum\n",
    "require 'benchmark'\n",
    "\n",
    "class Point\n",
    "  CLOSEST_POINTS_LIMIT = 10\n",
    "  attr_reader :x, :y, :z, :min_points\n",
    "  def initialize(x:, y:, z:)\n",
    "    @x = clamp(x)\n",
    "    @y = clamp(y)\n",
    "    @z = clamp(z)\n",
    "    @min_points = []\n",
    "  end\n",
    "  def closest_points(points:)\n",
    "    points.sort_by { |point| distance_to(point: point) }.first(CLOSEST_POINTS_LIMIT)\n",
    "  end\n",
    "  def cloest_points_2(node:)\n",
    "    @min_points = [[nil, 3]] * 10\n",
    "    searchNearest(node, 0)\n",
    "    return @min_points.map{ |p| p[0] }\n",
    "  end\n",
    "  def searchNearest(node, axis)\n",
    "    return if node.nil?\n",
    "    new_value = node.value.distance_to(:point => self)\n",
    "    if new_value < @min_points.last[1]\n",
    "      index = @min_points.bsearch_index { |p| p[1] >= new_value}\n",
    "      @min_points.insert(index, [node.value, new_value])\n",
    "      @min_points.pop()\n",
    "    end\n",
    "    n_val, t_val = attrbyAxis(node.value, axis), attrbyAxis(self, axis)\n",
    "    axis_old = axis\n",
    "    axis = (axis+1) % 3\n",
    "    return if node.left.nil? and node.right.nil?\n",
    "    return searchNearest(node.right, axis) if node.left.nil? \n",
    "    return searchNearest(node.left, axis) if node.right.nil? \n",
    "    adv = n_val >= t_val ? node.left : node.right\n",
    "    dis_adv = n_val >= t_val ? node.right : node.left\n",
    "    searchNearest(adv, axis)\n",
    "    searchNearest(dis_adv, axis) if @min_points.last[1] > \n",
    "    (t_val - n_val).abs ** 2\n",
    "  end\n",
    "  def distance_to(point:)\n",
    "    #Math.sqrt((x - point.x) ** 2 + (y - point.y) ** 2 + (z - point.z) ** 2)\n",
    "    (x - point.x) ** 2 + (y - point.y) ** 2 + (z - point.z) ** 2 # equivalent to above\n",
    "  end\n",
    "  def self.random\n",
    "    new(x: rand(), y: rand(), z: rand())\n",
    "  end\n",
    "  private\n",
    "  def clamp(coordinate)\n",
    "    [[coordinate, 0.0].max, 1.0].min\n",
    "  end\n",
    "  def attrbyAxis(point, axis)\n",
    "    return point.x if axis == 0\n",
    "    return point.y if axis == 1\n",
    "    return point.z if axis == 2\n",
    "  end\n",
    "end"
   ]
  },
  {
   "cell_type": "code",
   "execution_count": 2,
   "metadata": {},
   "outputs": [
    {
     "data": {
      "text/plain": [
       ":buildKdTree"
      ]
     },
     "execution_count": 2,
     "metadata": {},
     "output_type": "execute_result"
    }
   ],
   "source": [
    "class KdTreeNode\n",
    "  attr_reader :value, :left, :right\n",
    "  def initialize(value:, left:, right:)\n",
    "    @value = value\n",
    "    @left = left\n",
    "    @right = right\n",
    "  end\n",
    "end\n",
    "\n",
    "def buildKdTree(points, axis)\n",
    "  return nil if points.nil? or points.empty?\n",
    "  points = points.sort_by { |p| p.x } if axis == 0\n",
    "  points = points.sort_by { |p| p.y } if axis == 1\n",
    "  points = points.sort_by { |p| p.z } if axis == 2\n",
    "  median = points.length / 2\n",
    "  axis = (axis+1) % 3\n",
    "  node = KdTreeNode.new( :value => points[median], \n",
    "    :left => buildKdTree(points[0...median], axis), \n",
    "    :right => buildKdTree(points[(median+1)...points.length], axis))\n",
    "  return node\n",
    "end"
   ]
  },
  {
   "cell_type": "code",
   "execution_count": 4,
   "metadata": {},
   "outputs": [
    {
     "name": "stdout",
     "output_type": "stream",
     "text": [
      "\n"
     ]
    }
   ],
   "source": [
    "points = 10_000.times.map { Point.random }\n",
    "puts"
   ]
  },
  {
   "cell_type": "code",
   "execution_count": 5,
   "metadata": {},
   "outputs": [
    {
     "name": "stdout",
     "output_type": "stream",
     "text": [
      "\n"
     ]
    }
   ],
   "source": [
    "root = buildKdTree(points, 0)\n",
    "puts"
   ]
  },
  {
   "cell_type": "code",
   "execution_count": 35,
   "metadata": {},
   "outputs": [
    {
     "name": "stdout",
     "output_type": "stream",
     "text": [
      "\n"
     ]
    }
   ],
   "source": [
    "# Sanity check\n",
    "points = 100_000.times.map { Point.random }\n",
    "root = buildKdTree(points, 0)\n",
    "tests_number = 100\n",
    "pts = tests_number.times.map { Point.random }\n",
    "\n",
    "pts.each do\n",
    "  kd = target.cloest_points_2(node: root)\n",
    "  brutal =  target.closest_points(points: points)\n",
    "  if kd != brutal\n",
    "    puts \"The result of k-d tree is different from brutal\"\n",
    "    break\n",
    "  end\n",
    "end\n",
    "puts"
   ]
  },
  {
   "cell_type": "code",
   "execution_count": 30,
   "metadata": {},
   "outputs": [
    {
     "data": {
      "text/plain": [
       "0.4001950001111254"
      ]
     },
     "execution_count": 30,
     "metadata": {},
     "output_type": "execute_result"
    }
   ],
   "source": [
    "# performance test\n",
    "points = 10_000_000.times.map { Point.random }\n",
    "root = buildKdTree(points, 0)\n",
    "tests_number = 1000\n",
    "pts = tests_number.times.map { Point.random }\n",
    "\n",
    "Benchmark.realtime do\n",
    "  pts.each do |p|\n",
    "    p.cloest_points_2(:node => root)\n",
    "  end\n",
    "end"
   ]
  },
  {
   "cell_type": "code",
   "execution_count": 34,
   "metadata": {},
   "outputs": [
    {
     "data": {
      "text/plain": [
       "0.6000040000071749"
      ]
     },
     "execution_count": 34,
     "metadata": {},
     "output_type": "execute_result"
    }
   ],
   "source": [
    "Benchmark.realtime do\n",
    "  pts.each do |p|\n",
    "    p.cloest_points_2(:node => root)\n",
    "  end\n",
    "end"
   ]
  },
  {
   "cell_type": "code",
   "execution_count": null,
   "metadata": {},
   "outputs": [],
   "source": []
  },
  {
   "cell_type": "code",
   "execution_count": null,
   "metadata": {},
   "outputs": [],
   "source": []
  },
  {
   "cell_type": "code",
   "execution_count": null,
   "metadata": {},
   "outputs": [],
   "source": []
  },
  {
   "cell_type": "code",
   "execution_count": 18,
   "metadata": {},
   "outputs": [
    {
     "name": "stdout",
     "output_type": "stream",
     "text": [
      "kd: \n",
      "[#<Point:0x007fdf910781b8 @x=0.9671325300189624, @y=0.4471754860753543, @z=0.42274186294619776, @min_points=[]>, #<Point:0x007fdf90b0e470 @x=0.9850651041780931, @y=0.49335247671332616, @z=0.47088853702434275, @min_points=[]>, #<Point:0x007fdf90b3c168 @x=0.956506126741443, @y=0.4849663552977518, @z=0.4249053113609341, @min_points=[]>, #<Point:0x007fdf90b077d8 @x=0.9750785472332648, @y=0.4269425870388869, @z=0.4678268110373254, @min_points=[]>, #<Point:0x007fdf91c11a38 @x=0.9847614659585888, @y=0.5046165346839105, @z=0.45026414690045935, @min_points=[]>, #<Point:0x007fdf91c104f8 @x=0.9875491108270079, @y=0.41628071659618726, @z=0.4366225209572844, @min_points=[]>, #<Point:0x007fdf91086150 @x=0.974340934306766, @y=0.40033582923678046, @z=0.46161814752509944, @min_points=[]>, #<Point:0x007fdf91ca87a8 @x=0.996782990753614, @y=0.44630824802357505, @z=0.3807317637734171, @min_points=[]>, #<Point:0x007fdf9089fe28 @x=0.9522189236492303, @y=0.5160860609124444, @z=0.4554393006306203, @min_points=[]>, #<Point:0x007fdf9199e1e8 @x=0.9795759891294815, @y=0.5088995103603892, @z=0.48934508590744485, @min_points=[]>]\n",
      "10\n",
      "brutal: \n",
      "[#<Point:0x007fdf910781b8 @x=0.9671325300189624, @y=0.4471754860753543, @z=0.42274186294619776, @min_points=[]>, #<Point:0x007fdf90b0e470 @x=0.9850651041780931, @y=0.49335247671332616, @z=0.47088853702434275, @min_points=[]>, #<Point:0x007fdf90b3c168 @x=0.956506126741443, @y=0.4849663552977518, @z=0.4249053113609341, @min_points=[]>, #<Point:0x007fdf90b077d8 @x=0.9750785472332648, @y=0.4269425870388869, @z=0.4678268110373254, @min_points=[]>, #<Point:0x007fdf91c11a38 @x=0.9847614659585888, @y=0.5046165346839105, @z=0.45026414690045935, @min_points=[]>, #<Point:0x007fdf91c104f8 @x=0.9875491108270079, @y=0.41628071659618726, @z=0.4366225209572844, @min_points=[]>, #<Point:0x007fdf91086150 @x=0.974340934306766, @y=0.40033582923678046, @z=0.46161814752509944, @min_points=[]>, #<Point:0x007fdf91ca87a8 @x=0.996782990753614, @y=0.44630824802357505, @z=0.3807317637734171, @min_points=[]>, #<Point:0x007fdf9089fe28 @x=0.9522189236492303, @y=0.5160860609124444, @z=0.4554393006306203, @min_points=[]>, #<Point:0x007fdf9199e1e8 @x=0.9795759891294815, @y=0.5088995103603892, @z=0.48934508590744485, @min_points=[]>]\n",
      "miao\n",
      "true\n"
     ]
    }
   ],
   "source": [
    "# while true do\n",
    "target = Point.random\n",
    "kd = target.cloest_points_2(node: root)\n",
    "puts \"kd: \", kd\n",
    "puts kd.length\n",
    "brutal =  target.closest_points(points: points)\n",
    "puts \"brutal: \", brutal\n",
    "puts \"miao\"\n",
    "puts kd[0] == brutal[0]\n",
    "# break\n",
    "# end"
   ]
  },
  {
   "cell_type": "code",
   "execution_count": 14,
   "metadata": {},
   "outputs": [
    {
     "data": {
      "text/plain": [
       "[#<Point:0x007fdf909cef38 @x=0.32868596894707547, @y=0.2377247237229546, @z=0.6200282795900314, @min_points=[]>, 0.00043955401669878096]"
      ]
     },
     "execution_count": 14,
     "metadata": {},
     "output_type": "execute_result"
    }
   ],
   "source": [
    "kd[0]"
   ]
  },
  {
   "cell_type": "code",
   "execution_count": 19,
   "metadata": {},
   "outputs": [
    {
     "data": {
      "text/plain": [
       "#<Point:0x007fdf9199e1e8 @x=0.9795759891294815, @y=0.5088995103603892, @z=0.48934508590744485, @min_points=[]>"
      ]
     },
     "execution_count": 19,
     "metadata": {},
     "output_type": "execute_result"
    }
   ],
   "source": [
    "brutal.pop()"
   ]
  },
  {
   "cell_type": "code",
   "execution_count": 20,
   "metadata": {},
   "outputs": [
    {
     "data": {
      "text/plain": [
       "false"
      ]
     },
     "execution_count": 20,
     "metadata": {},
     "output_type": "execute_result"
    }
   ],
   "source": [
    "kd == brutal"
   ]
  },
  {
   "cell_type": "code",
   "execution_count": null,
   "metadata": {},
   "outputs": [],
   "source": []
  },
  {
   "cell_type": "code",
   "execution_count": 28,
   "metadata": {},
   "outputs": [
    {
     "data": {
      "text/plain": [
       "0.26859800005331635"
      ]
     },
     "execution_count": 28,
     "metadata": {},
     "output_type": "execute_result"
    }
   ],
   "source": [
    "tests_number = 1000\n",
    "pts = tests_number.times.map { Point.random }\n",
    "\n",
    "Benchmark.realtime do\n",
    "  pts.each do |p|\n",
    "    p.cloest_points_2(:node => root)\n",
    "  end\n",
    "end"
   ]
  },
  {
   "cell_type": "code",
   "execution_count": 50,
   "metadata": {},
   "outputs": [
    {
     "data": {
      "text/plain": [
       "33.13210499996785"
      ]
     },
     "execution_count": 50,
     "metadata": {},
     "output_type": "execute_result"
    }
   ],
   "source": [
    "tests_number = 1\n",
    "pts = tests_number.times.map { Point.random }\n",
    "\n",
    "Benchmark.realtime do\n",
    "  pts.each do |p|\n",
    "     p.closest_points(points: points)\n",
    "  end\n",
    "end"
   ]
  },
  {
   "cell_type": "code",
   "execution_count": 190,
   "metadata": {},
   "outputs": [
    {
     "data": {
      "text/plain": [
       "3.700004890561104e-05"
      ]
     },
     "execution_count": 190,
     "metadata": {},
     "output_type": "execute_result"
    }
   ],
   "source": [
    "tests_number = 10\n",
    "points = tests_number.times.map { Point.random }\n",
    "Benchmark.realtime do\n",
    "  Point.random.closest_points(points: points)\n",
    "end"
   ]
  },
  {
   "cell_type": "code",
   "execution_count": 29,
   "metadata": {},
   "outputs": [
    {
     "data": {
      "text/plain": [
       "3.799994010478258e-05"
      ]
     },
     "execution_count": 29,
     "metadata": {},
     "output_type": "execute_result"
    }
   ],
   "source": [
    "points = tests_number.times.map { Point.random }\n",
    "Benchmark.realtime do\n",
    "  Point.random.closest_points(points: points)\n",
    "end"
   ]
  },
  {
   "cell_type": "code",
   "execution_count": 233,
   "metadata": {},
   "outputs": [
    {
     "data": {
      "text/plain": [
       "[]"
      ]
     },
     "execution_count": 233,
     "metadata": {},
     "output_type": "execute_result"
    }
   ],
   "source": [
    "a = [1]\n",
    "a[0...0]"
   ]
  },
  {
   "cell_type": "code",
   "execution_count": 273,
   "metadata": {},
   "outputs": [
    {
     "data": {
      "text/plain": [
       "[3, 3, 3, 3, 3, 3, 3, 3, 3, 3]"
      ]
     },
     "execution_count": 273,
     "metadata": {},
     "output_type": "execute_result"
    }
   ],
   "source": [
    "stack = [3] * 10"
   ]
  },
  {
   "cell_type": "code",
   "execution_count": 182,
   "metadata": {},
   "outputs": [
    {
     "name": "stdout",
     "output_type": "stream",
     "text": [
      "2\n",
      "[]\n",
      "[]\n"
     ]
    }
   ],
   "source": [
    "a = [1,2,3]\n",
    "puts a[a.length/2]\n",
    "puts a[0...(a.length/2)]\n",
    "puts a[(a.length/2+1)...a.length]"
   ]
  },
  {
   "cell_type": "code",
   "execution_count": 20,
   "metadata": {},
   "outputs": [
    {
     "data": {
      "text/plain": [
       "[[5, 1], [9, 1], [3, 2], [4, 2], [2, 4]]"
      ]
     },
     "execution_count": 20,
     "metadata": {},
     "output_type": "execute_result"
    }
   ],
   "source": [
    "a = [[2,4],[3,2],[5,1],[9,1],[4,2]]\n",
    "a = a.sort_by{ |x| x[1] }.first(10)"
   ]
  },
  {
   "cell_type": "code",
   "execution_count": 17,
   "metadata": {},
   "outputs": [
    {
     "data": {
      "text/plain": [
       "[3]"
      ]
     },
     "execution_count": 17,
     "metadata": {},
     "output_type": "execute_result"
    }
   ],
   "source": [
    "a = []\n",
    "a << 3"
   ]
  },
  {
   "cell_type": "code",
   "execution_count": 38,
   "metadata": {},
   "outputs": [
    {
     "data": {
      "text/plain": [
       "5"
      ]
     },
     "execution_count": 38,
     "metadata": {},
     "output_type": "execute_result"
    }
   ],
   "source": [
    "a = [1,2,3,4,5]\n",
    "a.last"
   ]
  },
  {
   "cell_type": "code",
   "execution_count": 82,
   "metadata": {},
   "outputs": [
    {
     "data": {
      "text/plain": [
       "[nil, 3, nil, 3, nil, 3, nil, 3, nil, 3, nil, 3, nil, 3, nil, 3, nil, 3, nil, 3]"
      ]
     },
     "execution_count": 82,
     "metadata": {},
     "output_type": "execute_result"
    }
   ],
   "source": [
    "a = [nil, 3] * 10"
   ]
  },
  {
   "cell_type": "code",
   "execution_count": 103,
   "metadata": {},
   "outputs": [
    {
     "data": {
      "text/plain": [
       "[1, 1, 1, 2, 3, 3, 4, 5, 5, 4]"
      ]
     },
     "execution_count": 103,
     "metadata": {},
     "output_type": "execute_result"
    }
   ],
   "source": [
    "a = [1,2,3,4,5,5,6,1,14,1,3,10]\n",
    "a = a.sort()\n",
    "b = [4]\n",
    "a[0,9] += b"
   ]
  },
  {
   "cell_type": "code",
   "execution_count": 23,
   "metadata": {},
   "outputs": [
    {
     "data": {
      "text/plain": [
       "[]"
      ]
     },
     "execution_count": 23,
     "metadata": {},
     "output_type": "execute_result"
    }
   ],
   "source": [
    "a = [1,2,3,4,5]\n",
    "a[0...-0]"
   ]
  },
  {
   "cell_type": "code",
   "execution_count": 22,
   "metadata": {},
   "outputs": [
    {
     "data": {
      "text/plain": [
       "true"
      ]
     },
     "execution_count": 22,
     "metadata": {},
     "output_type": "execute_result"
    }
   ],
   "source": [
    "a = [1,2,3,4,5]\n",
    "b = [1,2,3,4,5]\n",
    "a == b"
   ]
  },
  {
   "cell_type": "code",
   "execution_count": null,
   "metadata": {},
   "outputs": [],
   "source": []
  }
 ],
 "metadata": {
  "kernelspec": {
   "display_name": "Ruby 2.4.1",
   "language": "ruby",
   "name": "ruby"
  },
  "language_info": {
   "file_extension": ".rb",
   "mimetype": "application/x-ruby",
   "name": "ruby",
   "version": "2.4.1"
  }
 },
 "nbformat": 4,
 "nbformat_minor": 2
}
