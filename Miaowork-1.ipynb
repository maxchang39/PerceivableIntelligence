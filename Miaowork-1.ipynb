{
 "cells": [
  {
   "cell_type": "code",
   "execution_count": 82,
   "metadata": {},
   "outputs": [],
   "source": [
    "import http.client\n",
    "import json\n",
    "import time\n",
    "import timeit\n",
    "import sys\n",
    "import collections\n",
    "from pygexf.gexf import *"
   ]
  },
  {
   "cell_type": "code",
   "execution_count": 2,
   "metadata": {},
   "outputs": [],
   "source": [
    "def lego_sets():\n",
    "    \"\"\"\n",
    "    return a list of lego sets.\n",
    "    this may be a list of any type of values\n",
    "    but each value should represent one set\n",
    "\n",
    "    e.g.,\n",
    "    biggest_lego_sets = lego_sets()\n",
    "    print(len(biggest_lego_sets))\n",
    "    > 280\n",
    "    e.g., len(my_sets)\n",
    "    \"\"\"\n",
    "    # you must replace this line and return your own list\n",
    "    return desc_lst\n",
    "\n",
    "def gexf_graph():\n",
    "    \"\"\"\n",
    "    return the completed Gexf graph object\n",
    "    \"\"\"\n",
    "    # you must replace these lines and supply your own graph\n",
    "    my_gexf = Gexf(\"author\", \"title\")\n",
    "    gexf.addGraph(\"undirected\", \"static\", \"I'm an empty graph\")\n",
    "    return gexf.graphs[0]\n",
    "\n",
    "# complete auto-grader functions for Q1.2.d\n",
    "\n",
    "def avg_node_degree():\n",
    "    \"\"\"\n",
    "    hardcode and return the average node degree\n",
    "    (run the function called “Average Degree”) within Gephi\n",
    "    \"\"\"\n",
    "    # you must replace this value with the avg node degree\n",
    "    return -1\n",
    "\n",
    "def graph_diameter():\n",
    "    \"\"\"\n",
    "    hardcode and return the diameter of the graph\n",
    "    (run the function called “Network Diameter”) within Gephi\n",
    "    \"\"\"\n",
    "    # you must replace this value with the graph diameter\n",
    "    return -1\n",
    "\n",
    "def avg_path_length():\n",
    "    \"\"\"\n",
    "    hardcode and return the average path length\n",
    "    (run the function called “Avg. Path Length”) within Gephi\n",
    "    :return:\n",
    "    \"\"\"\n",
    "    # you must replace this value with the avg path length\n",
    "    return -1\n",
    "\n",
    "def min_parts():\n",
    "    \"\"\"\n",
    "    Returns an integer value\n",
    "    \"\"\"\n",
    "    # you must replace this with your own value\n",
    "    return 1150"
   ]
  },
  {
   "cell_type": "code",
   "execution_count": 22,
   "metadata": {},
   "outputs": [],
   "source": [
    "conn = http.client.HTTPSConnection(\"rebrickable.com\")\n",
    "headers={'Authorization': 'key b2f4e1097201455e523e89dcad984abb'}\n",
    "conn.request(\"GET\", \"/api/v3/lego/sets/?page_size=300&min_parts=1150&ordering=num_parts\", headers = headers)\n",
    "r = conn.getresponse().read().decode('utf-8')\n",
    "z = json.loads(r)"
   ]
  },
  {
   "cell_type": "code",
   "execution_count": 80,
   "metadata": {},
   "outputs": [
    {
     "name": "stdout",
     "output_type": "stream",
     "text": [
      "1\n",
      "2\n",
      "3\n",
      "4\n",
      "5\n",
      "6\n",
      "7\n",
      "8\n",
      "9\n",
      "10\n",
      "11\n",
      "12\n",
      "13\n",
      "14\n",
      "15\n",
      "16\n",
      "17\n",
      "18\n",
      "19\n",
      "20\n",
      "21\n",
      "22\n",
      "23\n",
      "24\n",
      "25\n",
      "26\n",
      "27\n",
      "28\n",
      "29\n",
      "30\n",
      "31\n",
      "32\n",
      "33\n",
      "34\n",
      "35\n",
      "36\n",
      "37\n",
      "38\n",
      "39\n",
      "40\n",
      "41\n",
      "42\n",
      "43\n",
      "44\n",
      "45\n",
      "46\n",
      "47\n",
      "48\n",
      "49\n",
      "50\n",
      "51\n",
      "52\n",
      "53\n",
      "54\n",
      "55\n",
      "56\n",
      "57\n",
      "58\n",
      "59\n",
      "60\n",
      "61\n",
      "62\n",
      "63\n",
      "64\n",
      "65\n",
      "66\n",
      "67\n",
      "68\n",
      "69\n",
      "70\n",
      "71\n",
      "72\n",
      "73\n",
      "74\n",
      "75\n",
      "76\n",
      "77\n",
      "78\n",
      "79\n",
      "80\n",
      "81\n",
      "82\n",
      "83\n",
      "84\n",
      "85\n",
      "86\n",
      "87\n",
      "88\n",
      "89\n",
      "90\n",
      "91\n",
      "92\n",
      "93\n",
      "94\n",
      "95\n",
      "96\n",
      "97\n",
      "98\n",
      "99\n",
      "100\n",
      "101\n",
      "102\n",
      "103\n",
      "104\n",
      "105\n",
      "106\n",
      "107\n",
      "108\n",
      "109\n",
      "110\n",
      "111\n",
      "112\n",
      "113\n",
      "114\n",
      "115\n",
      "116\n",
      "117\n",
      "118\n",
      "119\n",
      "120\n",
      "121\n",
      "122\n",
      "123\n",
      "124\n",
      "125\n",
      "126\n",
      "127\n",
      "128\n",
      "129\n",
      "130\n",
      "131\n",
      "132\n",
      "133\n",
      "134\n",
      "135\n",
      "136\n",
      "137\n",
      "138\n",
      "139\n",
      "140\n",
      "141\n",
      "142\n",
      "143\n",
      "144\n",
      "145\n",
      "146\n",
      "147\n",
      "148\n",
      "149\n",
      "150\n",
      "151\n",
      "152\n",
      "153\n",
      "154\n",
      "155\n",
      "156\n",
      "157\n",
      "158\n",
      "159\n",
      "160\n",
      "161\n",
      "162\n",
      "163\n",
      "164\n",
      "165\n",
      "166\n",
      "167\n",
      "168\n",
      "169\n",
      "170\n",
      "171\n",
      "172\n",
      "173\n",
      "174\n",
      "175\n",
      "176\n",
      "177\n",
      "178\n",
      "179\n",
      "180\n",
      "181\n",
      "182\n",
      "183\n",
      "184\n",
      "185\n",
      "186\n",
      "187\n",
      "188\n",
      "189\n",
      "190\n",
      "191\n",
      "192\n",
      "193\n",
      "194\n",
      "195\n",
      "196\n",
      "197\n",
      "198\n",
      "199\n",
      "200\n",
      "201\n",
      "202\n",
      "203\n",
      "204\n",
      "205\n",
      "206\n",
      "207\n",
      "208\n",
      "209\n",
      "210\n",
      "211\n",
      "212\n",
      "213\n",
      "214\n",
      "215\n",
      "216\n",
      "217\n",
      "218\n",
      "219\n",
      "220\n",
      "221\n",
      "222\n",
      "223\n",
      "224\n",
      "225\n",
      "226\n",
      "227\n",
      "228\n",
      "229\n",
      "230\n",
      "231\n",
      "232\n",
      "233\n",
      "234\n",
      "235\n",
      "236\n",
      "237\n",
      "238\n",
      "239\n",
      "240\n",
      "241\n",
      "242\n",
      "243\n",
      "244\n",
      "245\n",
      "246\n",
      "247\n",
      "248\n",
      "249\n",
      "250\n",
      "251\n",
      "252\n",
      "253\n",
      "254\n",
      "255\n",
      "256\n",
      "257\n",
      "258\n",
      "259\n",
      "260\n",
      "261\n",
      "262\n",
      "263\n",
      "264\n",
      "265\n",
      "266\n",
      "267\n",
      "268\n",
      "269\n",
      "270\n",
      "271\n",
      "272\n",
      "273\n",
      "274\n",
      "275\n",
      "276\n",
      "277\n",
      "278\n",
      "\n"
     ]
    }
   ],
   "source": [
    "conn = http.client.HTTPSConnection(\"rebrickable.com\")\n",
    "headers={'Authorization': 'key b2f4e1097201455e523e89dcad984abb'}\n",
    "big_lst = []\n",
    "for item in desc_lst:\n",
    "    conn.request(\"GET\",\"/api/v3/lego/sets/\" +item[0]+ \"/parts/?page_size = 1000\",headers = headers)\n",
    "    this_set = conn.getresponse().read().decode('utf-8')\n",
    "    parts = json.loads(this_set)['results']\n",
    "    small_lst = []\n",
    "    parts.sort(key = lambda x:x['quantity'],reverse = True)\n",
    "    for num in range(min(len(parts), 20)):     \n",
    "        part_color = parts[num]['color']['rgb']\n",
    "        part_quantity = parts[num]['quantity']\n",
    "        part_name = parts[num]['part']['name']\n",
    "        part_number = parts[num]['part']['part_num']\n",
    "        id = part_number + \"_\" + part_color # part_id/node_id   \n",
    "        small_lst.append((part_color,part_quantity,part_name,part_number,id))\n",
    "    big_lst.append(small_lst)"
   ]
  },
  {
   "cell_type": "code",
   "execution_count": 128,
   "metadata": {},
   "outputs": [
    {
     "name": "stdout",
     "output_type": "stream",
     "text": [
      "Lego set-part graph undirected static  \n",
      "number of nodes : 2\n",
      "number of edges : 1\n"
     ]
    }
   ],
   "source": [
    "gexf = Gexf(\"Shan Cat\",\"Lego set-part graph\")\n",
    "graph=gexf.addGraph(\"undirected\",\"static\",\"Lego set-part graph\")\n",
    "graph.addNodeAttribute(\"Type\", None, \"string\", \"static\", \"0\")\n",
    "\n",
    "node = graph.addNode(\"0\",\"hello\", r=\"255\", g=\"255\", b=\"255\")\n",
    "node.addAttribute(\"0\", \"set\")\n",
    "graph.addEdge(\"0\",\"0\",\"1\")\n",
    "\n",
    "#output_file=open(\"bricks_graph.gexf\",\"wb\")\n",
    "#gexf.write(output_file)"
   ]
  },
  {
   "cell_type": "code",
   "execution_count": 116,
   "metadata": {},
   "outputs": [],
   "source": [
    "node = graph.addNode(\"0\",\"hello\")"
   ]
  },
  {
   "cell_type": "code",
   "execution_count": 106,
   "metadata": {},
   "outputs": [
    {
     "ename": "AttributeError",
     "evalue": "'Node' object has no attribute '_attribute'",
     "output_type": "error",
     "traceback": [
      "\u001b[0;31m---------------------------------------------------------------------------\u001b[0m",
      "\u001b[0;31mAttributeError\u001b[0m                            Traceback (most recent call last)",
      "\u001b[0;32m<ipython-input-106-a12a301f8a1d>\u001b[0m in \u001b[0;36m<module>\u001b[0;34m\u001b[0m\n\u001b[0;32m----> 1\u001b[0;31m \u001b[0mnode\u001b[0m\u001b[0;34m.\u001b[0m\u001b[0m_attribute\u001b[0m\u001b[0;34m\u001b[0m\u001b[0;34m\u001b[0m\u001b[0m\n\u001b[0m",
      "\u001b[0;31mAttributeError\u001b[0m: 'Node' object has no attribute '_attribute'"
     ]
    }
   ],
   "source": [
    "node._attribute"
   ]
  },
  {
   "cell_type": "code",
   "execution_count": 130,
   "metadata": {},
   "outputs": [
    {
     "data": {
      "text/plain": [
       "278"
      ]
     },
     "execution_count": 130,
     "metadata": {},
     "output_type": "execute_result"
    }
   ],
   "source": []
  },
  {
   "cell_type": "code",
   "execution_count": 208,
   "metadata": {},
   "outputs": [
    {
     "name": "stdout",
     "output_type": "stream",
     "text": [
      "Lego set-part graph undirected static  \n",
      "number of nodes : 1725\n",
      "number of edges : 5478\n"
     ]
    }
   ],
   "source": [
    "gexf = Gexf(\"Shan Gao\",\"Lego set-part graph\")\n",
    "graph=gexf.addGraph(\"undirected\",\"static\",\"Lego set-part graph\")\n",
    "graph.addNodeAttribute(\"Type\", None, \"string\", \"static\", \"0\")\n",
    "\n",
    "for s in desc_lst:\n",
    "    if graph.nodeExists(s[0]) == 0:\n",
    "        node = graph.addNode(id=s[0], label=s[1], r=\"0\", g=\"0\", b=\"0\") # add node\n",
    "        node.addAttribute(\"0\", \"set\")\n",
    "for s in big_lst:\n",
    "    for p in s:\n",
    "        r, g, b = (tuple(int(p[0][i:i+2], 16) for i in (0, 2, 4))) # Hex to RGB\n",
    "        if graph.nodeExists(p[-1]) == 0:\n",
    "            node = graph.addNode(id=p[-1], label=p[2], r=str(r), g=str(g), b=str(b)) # add node\n",
    "            node.addAttribute(\"0\", \"part\")\n",
    "check = []\n",
    "for i in range(len(big_lst)):\n",
    "    for j in range(len(big_lst[i])):\n",
    "        edge = graph.addEdge(id=\"e\" + str(i) + \",\" + str(j), source=desc_lst[i][0], \n",
    "                                 target=big_lst[i][j][-1], \n",
    "                                 weight=big_lst[i][j][1])\n",
    "        check.append((str(i) + str(j)))\n",
    "output_file=open(\"bricks_graph.gexf\",\"wb\")\n",
    "gexf.write(output_file)"
   ]
  },
  {
   "cell_type": "code",
   "execution_count": 200,
   "metadata": {},
   "outputs": [
    {
     "data": {
      "text/plain": [
       "5478"
      ]
     },
     "execution_count": 200,
     "metadata": {},
     "output_type": "execute_result"
    }
   ],
   "source": [
    "len(check)\n",
    "#len(set(check))"
   ]
  },
  {
   "cell_type": "code",
   "execution_count": 194,
   "metadata": {},
   "outputs": [
    {
     "data": {
      "text/plain": [
       "('05131D',\n",
       " 269,\n",
       " 'Technic Pin with Friction Ridges Lengthwise and Center Slots',\n",
       " '2780',\n",
       " '2780_05131D')"
      ]
     },
     "execution_count": 194,
     "metadata": {},
     "output_type": "execute_result"
    }
   ],
   "source": [
    "big_lst[0][0]"
   ]
  },
  {
   "cell_type": "code",
   "execution_count": 178,
   "metadata": {},
   "outputs": [
    {
     "data": {
      "text/plain": [
       "'2780_05131D'"
      ]
     },
     "execution_count": 178,
     "metadata": {},
     "output_type": "execute_result"
    }
   ],
   "source": [
    "big_lst[0][0][-1]"
   ]
  },
  {
   "cell_type": "code",
   "execution_count": 163,
   "metadata": {},
   "outputs": [
    {
     "data": {
      "text/plain": [
       "('05131D',\n",
       " 269,\n",
       " 'Technic Pin with Friction Ridges Lengthwise and Center Slots',\n",
       " '2780',\n",
       " '2780_05131D')"
      ]
     },
     "execution_count": 163,
     "metadata": {},
     "output_type": "execute_result"
    }
   ],
   "source": [
    "big_lst[0][0]"
   ]
  },
  {
   "cell_type": "code",
   "execution_count": 152,
   "metadata": {},
   "outputs": [],
   "source": [
    "h = big_lst[0][0][0]\n",
    "r, g, b = (tuple(int(h[i:i+2], 16) for i in (0, 2, 4))) # Hex to RGB\n",
    "set_node = graph.addNode(id=p[-1], label=p[1], r=r, g=g, b=b) # add node\n",
    "set_node.addAttribute(\"0\", \"part\")"
   ]
  },
  {
   "cell_type": "code",
   "execution_count": null,
   "metadata": {},
   "outputs": [],
   "source": [
    "# Declare a string-valued node attribute titled ‘Type’.  Add this attribute to each node in the graph.  You will use node attributes to perform partitioning operations within Gephi.  \n",
    "# For nodes representing a [Lego] set, set the attribute value = “set”\n",
    "# For nodes representing a [Lego] part, set the attribute value = “part”\n",
    "# Each set should be added as a node to the graph\n",
    "# node id = set number retrieved in part a\n",
    "# node label = set name retrieved in part a\n",
    "# node color is set using RGB values of ‘0’, ‘0’, ‘0’\n",
    "# Each part should be added as a node to the graph\n",
    "# node id = the part id you made by concatenating the part number and color in part b\n",
    "# node label = part name retrieved in part b\n",
    "# node color is set using the part color retrieved in part b.  RGB values must be converted from the original hexadecimal representation in the data.  \n",
    "# Add an edge between each part and the set(s) it belongs to.  \n",
    "# edge id = construct a unique id of your choosing.\n",
    "# edge source = set number retrieved in part a\n",
    "# edge target =  the unique part id you constructed from the part number and color. retrieved in part b\n",
    "# edge weight = part quantity retrieved in part b\n",
    "# Note: Ensure that you do not add the same node more than once to the graph.  pygexf has some functions that you can use to check this.  "
   ]
  }
 ],
 "metadata": {
  "kernelspec": {
   "display_name": "Python 3",
   "language": "python",
   "name": "python3"
  },
  "language_info": {
   "codemirror_mode": {
    "name": "ipython",
    "version": 3
   },
   "file_extension": ".py",
   "mimetype": "text/x-python",
   "name": "python",
   "nbconvert_exporter": "python",
   "pygments_lexer": "ipython3",
   "version": "3.7.1"
  }
 },
 "nbformat": 4,
 "nbformat_minor": 2
}
